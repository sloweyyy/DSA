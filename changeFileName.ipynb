{
 "cells": [
  {
   "cell_type": "code",
   "execution_count": null,
   "metadata": {},
   "outputs": [],
   "source": [
    "\n",
    "\n",
    "def rename_files_in_directory(directory):\n",
    "  for filename in os.listdir(directory):\n",
    "    match = re.match(r\"(\\d+)\\.(.*)\", filename)\n",
    "    if match:\n",
    "      number, rest_of_name = match.groups()\n",
    "      new_number = f\"{int(number):05d}\"\n",
    "      new_filename = f\"{new_number}.{rest_of_name}\"\n",
    "      os.rename(os.path.join(directory, filename), os.path.join(directory, new_filename))\n",
    "\n",
    "if __name__ == \"__main__\":\n",
    "  daily_folder_path = \"daily\"\n",
    "  rename_files_in_directory(daily_folder_path)"
   ]
  },
  {
   "cell_type": "code",
   "execution_count": 2,
   "metadata": {},
   "outputs": [],
   "source": [
    "import os\n",
    "import re\n",
    "def rename_files_in_directory(directory):\n",
    "  for filename in os.listdir(directory):\n",
    "    match = re.match(r\"(\\d+)\\s(.*)\", filename)\n",
    "    if match:\n",
    "      number, rest_of_name = match.groups()\n",
    "      new_number = f\"{int(number):05d}\"\n",
    "      new_filename = f\"{new_number}. {rest_of_name}\"\n",
    "      os.rename(os.path.join(directory, filename), os.path.join(directory, new_filename))\n",
    "\n",
    "if __name__ == \"__main__\":\n",
    "  daily_folder_path = \"daily\"\n",
    "  rename_files_in_directory(daily_folder_path)"
   ]
  },
  {
   "cell_type": "code",
   "execution_count": null,
   "metadata": {},
   "outputs": [],
   "source": []
  }
 ],
 "metadata": {
  "kernelspec": {
   "display_name": "venv",
   "language": "python",
   "name": "python3"
  },
  "language_info": {
   "codemirror_mode": {
    "name": "ipython",
    "version": 3
   },
   "file_extension": ".py",
   "mimetype": "text/x-python",
   "name": "python",
   "nbconvert_exporter": "python",
   "pygments_lexer": "ipython3",
   "version": "3.12.7"
  }
 },
 "nbformat": 4,
 "nbformat_minor": 2
}
